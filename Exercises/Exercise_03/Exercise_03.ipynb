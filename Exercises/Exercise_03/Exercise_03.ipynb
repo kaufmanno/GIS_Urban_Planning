{
 "cells": [
  {
   "cell_type": "markdown",
   "metadata": {},
   "source": [
    "# Exercise 03: QGIS & Vectors\n",
    "O. Kaufmann, Q. Campeol 2024."
   ]
  },
  {
   "cell_type": "code",
   "execution_count": 1,
   "metadata": {
    "jupyter": {
     "outputs_hidden": false,
     "source_hidden": true
    }
   },
   "outputs": [
    {
     "data": {
      "text/html": [
       "<div class=\"alert alert-block alert-danger\"> <b>Important information:</b><br>Execute me to activate interactive questions.</div>"
      ]
     },
     "metadata": {},
     "output_type": "display_data"
    }
   ],
   "source": [
    "\n",
    "# @info: Execute me to activate interactive questions\n",
    "# ---------------------------------------------------\n",
    "\n",
    "# O. KAUFMANN, 2024. \n",
    "\n",
    "from IPython import get_ipython\n",
    "from IPython.core import magic_arguments\n",
    "from IPython.core.magic import register_cell_magic\n",
    "import ipywidgets as widgets\n",
    "from IPython.display import HTML, clear_output\n",
    "import codecs\n",
    "\n",
    "def decode_text(text):\n",
    "    return codecs.decode(text, 'hex').decode('utf')\n",
    "\n",
    "def encode_text(text):\n",
    "    return codecs.encode(codecs.encode(text,'utf8'), 'hex').decode('utf')\n",
    "    \n",
    "@magic_arguments.magic_arguments()\n",
    "@magic_arguments.argument('--prompt', default='none', help='Encoded prompt')\n",
    "@magic_arguments.argument('--answer', default='none', help='Encoded answer')\n",
    "@magic_arguments.argument('--title', default='Question', help='First line of alert block')\n",
    "@magic_arguments.argument('--button-label', default='Solution', help='Text to display on button')\n",
    "@magic_arguments.argument('--div-type', default='alert-warning', help='Type of alert block')\n",
    "    \n",
    "@register_cell_magic\n",
    "def display_prompt(line, cell):\n",
    "    args = magic_arguments.parse_argstring(display_prompt, line)\n",
    "    title = args.title\n",
    "    prompt = args.prompt\n",
    "    answer = args.answer\n",
    "    button_label = args.button_label\n",
    "    div_type = args.div_type\n",
    "    def make_block(text, title=title, label=button_label, div_type=div_type):\n",
    "        if title != 'none':\n",
    "            return HTML(f\"\"\"<div class=\"alert alert-block {div_type}\"> <b>{title}</b><br> {text} </div>\"\"\")\n",
    "        else:\n",
    "            return HTML(f\"\"\"<div class=\"alert alert-block {div_type}\"> {text} </div>\"\"\")\n",
    "    if prompt != 'none':\n",
    "        display(make_block(decode_text(prompt)))\n",
    "    toggle_button = widgets.ToggleButton(description=button_label)\n",
    "    output = widgets.Output()\n",
    "    def on_button_clicked(b):\n",
    "        with output:\n",
    "            if b['new']:  \n",
    "                display(HTML(decode_text(answer)))\n",
    "            else:\n",
    "                output.clear_output()\n",
    "    toggle_button.observe(on_button_clicked, 'value')\n",
    "    display(toggle_button)\n",
    "    display(output)\n",
    "\n",
    "HTML(\"\"\"<div class=\"alert alert-block alert-success\"> <b>Success:</b><br>Interactive questions activated.</div>\"\"\")\n"
   ]
  },
  {
   "cell_type": "markdown",
   "metadata": {},
   "source": [
    "<div class=\"alert alert-block alert-info\">\n",
    "<b>Info:</b><br>     This exercise is to be carried out in QGIS. The notebook only serves to guide you through the exercise. Launch QGIS before continuing.\n",
    "</div>"
   ]
  },
  {
   "cell_type": "markdown",
   "metadata": {
    "jp-MarkdownHeadingCollapsed": true
   },
   "source": [
    "<b>Note:</b><br>    Start QGIS and open the <b>Exercise_03.qgz</b> project. \n"
   ]
  },
  {
   "cell_type": "markdown",
   "metadata": {},
   "source": [
    "***\n",
    "## 1. Discover vector datasets"
   ]
  },
  {
   "cell_type": "markdown",
   "metadata": {},
   "source": [
    "<div class=\"alert alert-block alert-success\">\n",
    "\t<b>1.1 Load a local dataset</b>\n",
    "</div>"
   ]
  },
  {
   "cell_type": "markdown",
   "metadata": {},
   "source": [
    "<div class=\"alert alert-block alert-warning\">\n",
    "<b>Question 1.1.1: </b><br>A file containing the communes of Wallonia is provided in \"data/Communes.shp\". Add this local dataset to your map. \n",
    "</div>"
   ]
  },
  {
   "cell_type": "code",
   "execution_count": null,
   "metadata": {
    "jupyter": {
     "outputs_hidden": false,
     "source_hidden": true
    }
   },
   "outputs": [
    {
     "data": {
      "text/html": [
       "<div class=\"alert alert-block alert-warning\">\n",
       "<b>Question 1.1.2: </b><br>What is the format of this vector file?\n",
       "\n",
       "</div>"
      ]
     },
     "metadata": {},
     "output_type": "display_data"
    }
   ],
   "source": [
    "\n",
    "%%display_prompt --title Question 1.1.2: --prompt 576861742069732074686520666f726d6174206f66207468697320766563746f722066696c653f0a --answer 20202020536861706566696c65\n",
    "# @info: Execute me to display the question"
   ]
  },
  {
   "cell_type": "code",
   "execution_count": null,
   "metadata": {
    "jupyter": {
     "outputs_hidden": false,
     "source_hidden": true
    }
   },
   "outputs": [
    {
     "data": {
      "text/html": [
       "<div class=\"alert alert-block alert-warning\">\n",
       "<b>Question 1.1.3: </b><br>What is the CRS associated with this dataset?\n",
       "\n",
       "</div>"
      ]
     },
     "metadata": {},
     "output_type": "display_data"
    }
   ],
   "source": [
    "\n",
    "%%display_prompt --title Question 1.1.3: --prompt 576861742069732074686520435253206173736f6369617465642077697468207468697320646174617365743f0a --answer 20202020455053473a3331333730202d2042656c67652031393732202f2042656c6769616e204c616d62657274203732\n",
    "# @info: Execute me to display the question"
   ]
  },
  {
   "cell_type": "markdown",
   "metadata": {},
   "source": [
    "### @subection | Examine the dataset"
   ]
  },
  {
   "cell_type": "code",
   "execution_count": null,
   "metadata": {
    "jupyter": {
     "outputs_hidden": false,
     "source_hidden": true
    }
   },
   "outputs": [
    {
     "data": {
      "text/html": [
       "<div class=\"alert alert-block alert-warning\">\n",
       "<b>Question 1.1.4: </b><br>What information do vector entities contain?\n",
       "\n",
       "</div>"
      ]
     },
     "metadata": {},
     "output_type": "display_data"
    }
   ],
   "source": [
    "\n",
    "%%display_prompt --title Question 1.1.4: --prompt 5768617420696e666f726d6174696f6e20646f20766563746f7220656e74697469657320636f6e7461696e3f0a --answer 20202020417265612c20706572696d657465722c206f6c64206e616d65206f662074686520636f6d6d756e652c206574632e\n",
    "# @info: Execute me to display the question"
   ]
  },
  {
   "cell_type": "markdown",
   "metadata": {},
   "source": [
    "<div class=\"alert alert-block alert-warning\">\n",
    "<b>Question 1.1.5: </b><br>Differentiate the communes by displaying them in different colours. What attribute should the symbology be based on ?\n",
    "</div>"
   ]
  },
  {
   "cell_type": "code",
   "execution_count": null,
   "metadata": {
    "jupyter": {
     "outputs_hidden": false,
     "source_hidden": true
    }
   },
   "outputs": [
    {
     "data": {
      "text/html": [
       "<div class=\"alert alert-block alert-warning\">\n",
       "<b>Question 1.1.6: </b><br>Which are the 5 largest municipalities in Wallonia in terms of surface area? Select them using a query.\n",
       "\n",
       "</div>"
      ]
     },
     "metadata": {},
     "output_type": "display_data"
    }
   ],
   "source": [
    "\n",
    "%%display_prompt --title Question 1.1.6: --prompt 576869636820617265207468652035206c617267657374206d756e69636970616c697469657320696e2057616c6c6f6e696120696e207465726d73206f66207375726661636520617265613f2053656c656374207468656d207573696e6720612071756572792e0a --answer 20202020546f75726e61692c20436f7576696e2c204368696d61792c204c696272616d6f6e742c204e616d75722e\n",
    "# @info: Execute me to display the question"
   ]
  },
  {
   "cell_type": "markdown",
   "metadata": {},
   "source": [
    "<div class=\"alert alert-block alert-warning\">\n",
    "<b>Question 1.1.7: </b><br>In which province is located the commune of OLNE ?\n",
    "</div>"
   ]
  },
  {
   "cell_type": "markdown",
   "metadata": {},
   "source": [
    "<div class=\"alert alert-block alert-success\">\n",
    "\t<b>1.2 Create a new vector dataset</b>\n",
    "</div>"
   ]
  },
  {
   "cell_type": "markdown",
   "metadata": {},
   "source": [
    "<div class=\"alert alert-block alert-warning\">\n",
    "<b>Question 1.2.1: </b><br>Create a new shapefile to pinpoint the location of these 5 communes. Add the name of the commune in a new field of the shapefile.\n",
    "</div>"
   ]
  },
  {
   "cell_type": "markdown",
   "metadata": {},
   "source": [
    "<div class=\"alert alert-block alert-warning\">\n",
    "<b>Question 1.2.2: </b><br>Display the name of communes with a label\n",
    "</div>"
   ]
  },
  {
   "cell_type": "code",
   "execution_count": null,
   "metadata": {
    "jupyter": {
     "outputs_hidden": false,
     "source_hidden": true
    }
   },
   "outputs": [
    {
     "data": {
      "text/html": [
       "<div class=\"alert alert-block alert-warning\">\n",
       "<b>Question 1.2.3: </b><br>What are the approximate coordinates in the Lambert 1972 CRS of Mons ? and in Lambert 2008 CRS ?\n",
       "\n",
       "</div>"
      ]
     },
     "metadata": {},
     "output_type": "display_data"
    }
   ],
   "source": [
    "\n",
    "%%display_prompt --title Question 1.2.3: --prompt 57686174206172652074686520617070726f78696d61746520636f6f7264696e6174657320696e20746865204c616d62657274203139373220435253206f66204d6f6e73203f20616e6420696e204c616d62657274203230303820435253203f0a --answer 2020202054686520617070726f78696d61746520636f6f7264696e61746573206f6620746865204772616e642d506c616365206f66204d6f6e7320696e204c4237322061726520313230303030206d2c20313237303030206d20616e6420696e204c4230382061726520363230303030206d2c20363237303030206d\n",
    "# @info: Execute me to display the question"
   ]
  }
 ],
 "metadata": {
  "kernelspec": {
   "display_name": "Python 3 (ipykernel)",
   "language": "python",
   "name": "python3"
  },
  "language_info": {
   "codemirror_mode": {
    "name": "ipython",
    "version": 3
   },
   "file_extension": ".py",
   "mimetype": "text/x-python",
   "name": "python",
   "nbconvert_exporter": "python",
   "pygments_lexer": "ipython3",
   "version": "3.8.10"
  }
 },
 "nbformat": 4,
 "nbformat_minor": 4
}

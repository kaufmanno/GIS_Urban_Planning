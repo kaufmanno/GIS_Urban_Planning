{
 "cells": [
  {
   "cell_type": "markdown",
   "metadata": {},
   "source": [
    "# Exercise 05: QGIS & Vector selection\n",
    "O. Kaufmann, Q. Campeol 2024."
   ]
  },
  {
   "cell_type": "code",
   "execution_count": 1,
   "metadata": {
    "jupyter": {
     "outputs_hidden": false,
     "source_hidden": true
    }
   },
   "outputs": [
    {
     "data": {
      "text/html": [
       "<div class=\"alert alert-block alert-danger\"> <b>Important information:</b><br>Execute me to activate interactive questions.</div>"
      ]
     },
     "metadata": {},
     "output_type": "display_data"
    }
   ],
   "source": [
    "\n",
    "# @info: Execute me to activate interactive questions\n",
    "# ---------------------------------------------------\n",
    "\n",
    "# O. KAUFMANN, 2024. \n",
    "\n",
    "from IPython import get_ipython\n",
    "from IPython.core import magic_arguments\n",
    "from IPython.core.magic import register_cell_magic\n",
    "import ipywidgets as widgets\n",
    "from IPython.display import HTML, clear_output\n",
    "import codecs\n",
    "\n",
    "def decode_text(text):\n",
    "    return codecs.decode(text, 'hex').decode('utf')\n",
    "\n",
    "def encode_text(text):\n",
    "    return codecs.encode(codecs.encode(text,'utf8'), 'hex').decode('utf')\n",
    "    \n",
    "@magic_arguments.magic_arguments()\n",
    "@magic_arguments.argument('--prompt', default='none', help='Encoded prompt')\n",
    "@magic_arguments.argument('--answer', default='none', help='Encoded answer')\n",
    "@magic_arguments.argument('--title', default='Question', help='First line of alert block')\n",
    "@magic_arguments.argument('--button-label', default='Solution', help='Text to display on button')\n",
    "@magic_arguments.argument('--div-type', default='alert-warning', help='Type of alert block')\n",
    "    \n",
    "@register_cell_magic\n",
    "def display_prompt(line, cell):\n",
    "    args = magic_arguments.parse_argstring(display_prompt, line)\n",
    "    title = args.title\n",
    "    prompt = args.prompt\n",
    "    answer = args.answer\n",
    "    button_label = args.button_label\n",
    "    div_type = args.div_type\n",
    "    def make_block(text, title=title, label=button_label, div_type=div_type):\n",
    "        if title != 'none':\n",
    "            return HTML(f\"\"\"<div class=\"alert alert-block {div_type}\"> <b>{title}</b><br> {text} </div>\"\"\")\n",
    "        else:\n",
    "            return HTML(f\"\"\"<div class=\"alert alert-block {div_type}\"> {text} </div>\"\"\")\n",
    "    if prompt != 'none':\n",
    "        display(make_block(decode_text(prompt)))\n",
    "    toggle_button = widgets.ToggleButton(description=button_label)\n",
    "    output = widgets.Output()\n",
    "    def on_button_clicked(b):\n",
    "        with output:\n",
    "            if b['new']:  \n",
    "                display(HTML(decode_text(answer)))\n",
    "            else:\n",
    "                output.clear_output()\n",
    "    toggle_button.observe(on_button_clicked, 'value')\n",
    "    display(toggle_button)\n",
    "    display(output)\n",
    "\n",
    "HTML(\"\"\"<div class=\"alert alert-block alert-success\"> <b>Success:</b><br>Interactive questions activated.</div>\"\"\")\n"
   ]
  },
  {
   "cell_type": "markdown",
   "metadata": {},
   "source": [
    "<div class=\"alert alert-block alert-info\">\n",
    "<b>Info:</b><br>     This exercise is to be carried out in QGIS. The notebook only serves to guide you through the exercise. Launch QGIS Start QGIS and open a new project named <b>My_Exercise_05.qgz</b> before continuing.\n",
    "</div>"
   ]
  },
  {
   "cell_type": "markdown",
   "metadata": {
    "jp-MarkdownHeadingCollapsed": true
   },
   "source": [
    "***\n",
    "## 1. Discover the Geopackage\t<img align=\"right\" src=\"data:image/png;base64, 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\" width=\"24\"/>"
   ]
  },
  {
   "cell_type": "markdown",
   "metadata": {},
   "source": [
    "<div class=\"alert alert-block alert-success\">\n",
    "\t<b>1.1 Establish the connexion to the geopackage in QGIS</b>\n",
    "</div>"
   ]
  },
  {
   "cell_type": "markdown",
   "metadata": {},
   "source": [
    "<div class=\"alert alert-block alert-warning\">\n",
    "<b>Question 1.1.1: </b><br>Which are the layers avalaible in the geopackage ?\n",
    "</div>"
   ]
  },
  {
   "cell_type": "markdown",
   "metadata": {},
   "source": [
    "<div class=\"alert alert-block alert-success\">\n",
    "\t<b>1.2 Examine the dataset</b>\n",
    "</div>"
   ]
  },
  {
   "cell_type": "markdown",
   "metadata": {},
   "source": [
    "<div class=\"alert alert-block alert-warning\">\n",
    "<b>Question 1.2.1: </b><br>What kind of geometry do the entities have in each of these layers ?\n",
    "</div>"
   ]
  },
  {
   "cell_type": "markdown",
   "metadata": {},
   "source": [
    "<div class=\"alert alert-block alert-warning\">\n",
    "<b>Question 1.2.2: </b><br>What are the CRS of these dataset ?\n",
    "</div>"
   ]
  },
  {
   "cell_type": "markdown",
   "metadata": {},
   "source": [
    "<div class=\"alert alert-block alert-warning\">\n",
    "<b>Question 1.2.3: </b><br>Add these layers to the map. Arrange them as best as you can in the layers panel.\n",
    "</div>"
   ]
  },
  {
   "cell_type": "markdown",
   "metadata": {
    "jp-MarkdownHeadingCollapsed": true
   },
   "source": [
    "***\n",
    "## 2. Selecting entities\t<img align=\"right\" src=\"data:image/png;base64, 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\" width=\"24\"/>"
   ]
  },
  {
   "cell_type": "markdown",
   "metadata": {},
   "source": [
    "<div class=\"alert alert-block alert-success\">\n",
    "\t<b>2.1 Interactive selection</b>\n",
    "</div>"
   ]
  },
  {
   "cell_type": "markdown",
   "metadata": {},
   "source": [
    "<div class=\"alert alert-block alert-warning\">\n",
    "<b>Question 2.1.1: </b><br>In the `arrondissement` layer, select interactively the arrondissement corresponding to Bruxelles.\n",
    "</div>"
   ]
  },
  {
   "cell_type": "markdown",
   "metadata": {},
   "source": [
    "<div class=\"alert alert-block alert-success\">\n",
    "\t<b>2.2 Selection by attribute values</b>\n",
    "</div>"
   ]
  },
  {
   "cell_type": "markdown",
   "metadata": {},
   "source": [
    "<div class=\"alert alert-block alert-warning\">\n",
    "<b>Question 2.2.1: </b><br>In the railway layer, select the railroads with two tracks.\n",
    "</div>"
   ]
  },
  {
   "cell_type": "markdown",
   "metadata": {},
   "source": [
    "<div class=\"alert alert-block alert-success\">\n",
    "\t<b>2.3 Spatial selection</b>\n",
    "</div>"
   ]
  },
  {
   "cell_type": "markdown",
   "metadata": {},
   "source": [
    "<div class=\"alert alert-block alert-warning\">\n",
    "<b>Question 2.3.1: </b><br>Select the railways with two tracks which lie in the interior of the arrondissement of Bruxelles.\n",
    "</div>"
   ]
  },
  {
   "cell_type": "markdown",
   "metadata": {},
   "source": [
    "<div class=\"alert alert-block alert-success\">\n",
    "\t<b>2.4 Selection restriction</b>\n",
    "</div>"
   ]
  },
  {
   "cell_type": "markdown",
   "metadata": {},
   "source": [
    "<div class=\"alert alert-block alert-warning\">\n",
    "<b>Question 2.4.1: </b><br>Limit the current selection to railways that are electrified.\n",
    "</div>"
   ]
  },
  {
   "cell_type": "code",
   "execution_count": null,
   "metadata": {
    "jupyter": {
     "outputs_hidden": false,
     "source_hidden": true
    }
   },
   "outputs": [
    {
     "data": {
      "text/html": [
       "<div class=\"alert alert-block alert-warning\">\n",
       "<b>Question 2.4.2: </b><br>How many entities are finally selected ? \n",
       "\n",
       "</div>"
      ]
     },
     "metadata": {},
     "output_type": "display_data"
    }
   ],
   "source": [
    "\n",
    "%%display_prompt --title Question 2.4.2: --prompt 486f77206d616e7920656e746974696573206172652066696e616c6c792073656c6563746564203f200a --answer 20202020313138\n",
    "# @info: Execute me to display the question"
   ]
  }
 ],
 "metadata": {
  "kernelspec": {
   "display_name": "Python 3 (ipykernel)",
   "language": "python",
   "name": "python3"
  },
  "language_info": {
   "codemirror_mode": {
    "name": "ipython",
    "version": 3
   },
   "file_extension": ".py",
   "mimetype": "text/x-python",
   "name": "python",
   "nbconvert_exporter": "python",
   "pygments_lexer": "ipython3",
   "version": "3.9.7"
  }
 },
 "nbformat": 4,
 "nbformat_minor": 4
}

{
 "cells": [
  {
   "cell_type": "markdown",
   "metadata": {},
   "source": [
    "# Exercise 01: QGIS quick guided tour\n",
    "O. Kaufmann 2024."
   ]
  },
  {
   "cell_type": "code",
   "execution_count": 1,
   "metadata": {
    "jupyter": {
     "outputs_hidden": false,
     "source_hidden": true
    }
   },
   "outputs": [
    {
     "data": {
      "text/html": [
       "<div class=\"alert alert-block alert-danger\"> <b>Important information:</b><br>Execute me to activate interactive questions.</div>"
      ]
     },
     "metadata": {},
     "output_type": "display_data"
    }
   ],
   "source": [
    "\n",
    "# @info: Execute me to activate interactive questions\n",
    "# ---------------------------------------------------\n",
    "\n",
    "# O. KAUFMANN, 2024. \n",
    "\n",
    "from IPython import get_ipython\n",
    "from IPython.core import magic_arguments\n",
    "from IPython.core.magic import register_cell_magic\n",
    "import ipywidgets as widgets\n",
    "from IPython.display import HTML, clear_output\n",
    "import codecs\n",
    "\n",
    "def decode_text(text):\n",
    "    return codecs.decode(text, 'hex').decode('utf')\n",
    "\n",
    "def encode_text(text):\n",
    "    return codecs.encode(codecs.encode(text,'utf8'), 'hex').decode('utf')\n",
    "    \n",
    "@magic_arguments.magic_arguments()\n",
    "@magic_arguments.argument('--prompt', default='none', help='Encoded prompt')\n",
    "@magic_arguments.argument('--answer', default='none', help='Encoded answer')\n",
    "@magic_arguments.argument('--title', default='Question', help='First line of alert block')\n",
    "@magic_arguments.argument('--button-label', default='Solution', help='Text to display on button')\n",
    "@magic_arguments.argument('--div-type', default='alert-warning', help='Type of alert block')\n",
    "    \n",
    "@register_cell_magic\n",
    "def display_prompt(line, cell):\n",
    "    args = magic_arguments.parse_argstring(display_prompt, line)\n",
    "    title = args.title\n",
    "    prompt = args.prompt\n",
    "    answer = args.answer\n",
    "    button_label = args.button_label\n",
    "    div_type = args.div_type\n",
    "    def make_block(text, title=title, label=button_label, div_type=div_type):\n",
    "        if title != 'none':\n",
    "            return HTML(f\"\"\"<div class=\"alert alert-block {div_type}\"> <b>{title}</b><br> {text} </div>\"\"\")\n",
    "        else:\n",
    "            return HTML(f\"\"\"<div class=\"alert alert-block {div_type}\"> {text} </div>\"\"\")\n",
    "    if prompt != 'none':\n",
    "        display(make_block(decode_text(prompt)))\n",
    "    toggle_button = widgets.ToggleButton(description=button_label)\n",
    "    output = widgets.Output()\n",
    "    def on_button_clicked(b):\n",
    "        with output:\n",
    "            if b['new']:  \n",
    "                display(HTML(decode_text(answer)))\n",
    "            else:\n",
    "                output.clear_output()\n",
    "    toggle_button.observe(on_button_clicked, 'value')\n",
    "    display(toggle_button)\n",
    "    display(output)\n",
    "\n",
    "HTML(\"\"\"<div class=\"alert alert-block alert-success\"> <b>Success:</b><br>Interactive questions activated.</div>\"\"\")\n"
   ]
  },
  {
   "cell_type": "markdown",
   "metadata": {},
   "source": [
    "***\n",
    "## 1. First steps..."
   ]
  },
  {
   "cell_type": "markdown",
   "metadata": {},
   "source": [
    "<div class=\"alert alert-block alert-info\">\n",
    "<b>Info:</b><br>     This exercise is to be carried out in QGIS. The notebook only serves to guide you through the exercise. Launch QGIS before continuing.\n",
    "</div>"
   ]
  },
  {
   "cell_type": "markdown",
   "metadata": {},
   "source": [
    "<b>Note:</b><br>    You may use the lubuntu workspaces for greater convenience.  <br>\n",
    "    Press [Ctrl] + [Alt] + [->] and [Ctrl] + [Alt] + [<-] to switch between workspaces. <br>\n",
    "    You could also press [Shift] + [Ctrl] + [Alt] + [->] and [Shift] + [Ctrl] + [Alt] + [<-] to move the current window from one workspace to another. <br>\n",
    "    **To quickly switch from this notebook to QGIS, place this notebook in one workspace and QGIS in the adjacent one.**\n"
   ]
  },
  {
   "cell_type": "markdown",
   "metadata": {},
   "source": [
    "<b>Note:</b><br>    Unless you're a touchpad virtuoso, a mouse is preferable for working in a GIS... ;-)\n"
   ]
  },
  {
   "cell_type": "markdown",
   "metadata": {},
   "source": [
    "<div class=\"alert alert-block alert-success\">\n",
    "\t<b>1.1 Getting started</b>\n",
    "</div>"
   ]
  },
  {
   "cell_type": "markdown",
   "metadata": {},
   "source": [
    "<b>Note:</b><br>    Start QGIS and open the <b>Exercise_01.qgz</b> project. \n"
   ]
  },
  {
   "cell_type": "markdown",
   "metadata": {},
   "source": [
    "<div class=\"alert alert-block alert-warning\">\n",
    "<b>Question 1.1.1: </b><br>Take some time to explore the interface. Make sure you spot the menu bar, the toolbar, the different panels and the status bar.\n",
    "</div>"
   ]
  },
  {
   "cell_type": "code",
   "execution_count": null,
   "metadata": {
    "jupyter": {
     "outputs_hidden": false,
     "source_hidden": true
    }
   },
   "outputs": [
    {
     "data": {
      "text/html": [
       "<div class=\"alert alert-block alert-warning\">\n",
       "<b>Question 1.1.2: </b><br>How many information layers are currently loaded into your project?\n",
       "\n",
       "</div>"
      ]
     },
     "metadata": {},
     "output_type": "display_data"
    }
   ],
   "source": [
    "\n",
    "%%display_prompt --title Question 1.1.2: --prompt 486f77206d616e7920696e666f726d6174696f6e206c6179657273206172652063757272656e746c79206c6f6164656420696e746f20796f75722070726f6a6563743f0a --answer 2020202054776f206c6179657273206172652063757272656e746c79206c6f616465643a3c2f62723e0a202020202d204f70656e5374726565744d61703c2f62723e0a202020202d205a6f6e65732064276166666563746174696f6e3c2f62723e0a20202020546865206c6174746572206973206e6f7420646973706c61796564206f6e20746865206d6170207768656e20796f75206f70656e207468652070726f6a6563742e\n",
    "# @info: Execute me to display the question"
   ]
  },
  {
   "cell_type": "code",
   "execution_count": null,
   "metadata": {
    "jupyter": {
     "outputs_hidden": false,
     "source_hidden": true
    }
   },
   "outputs": [
    {
     "data": {
      "text/html": [
       "<div class=\"alert alert-block alert-warning\">\n",
       "<b>Question 1.1.3: </b><br>What do the layers loaded into the project represent?\n",
       "\n",
       "</div>"
      ]
     },
     "metadata": {},
     "output_type": "display_data"
    }
   ],
   "source": [
    "\n",
    "%%display_prompt --title Question 1.1.3: --prompt 5768617420646f20746865206c6179657273206c6f6164656420696e746f207468652070726f6a65637420726570726573656e743f0a --answer 20202020486176652061206c6f6f6b20617420746865206d657461646174612e3c2f62723e0a202020204f70656e20746865206c61796572732070726f7065727469657320746f20616363657373207468656972206d657461646174612e\n",
    "# @info: Execute me to display the question"
   ]
  },
  {
   "cell_type": "markdown",
   "metadata": {},
   "source": [
    "***\n",
    "## 2. Map scale, distances and surfaces"
   ]
  },
  {
   "cell_type": "code",
   "execution_count": null,
   "metadata": {
    "jupyter": {
     "outputs_hidden": false,
     "source_hidden": true
    }
   },
   "outputs": [
    {
     "data": {
      "text/html": [
       "<div class=\"alert alert-block alert-warning\">\n",
       "<b>Question 2.0.1: </b><br>What is the length of the longest straight line that sits on the Mons' Grand'Place?\n",
       "\n",
       "</div>"
      ]
     },
     "metadata": {},
     "output_type": "display_data"
    }
   ],
   "source": [
    "\n",
    "%%display_prompt --title Question 2.0.1: --prompt 5768617420697320746865206c656e677468206f6620746865206c6f6e67657374207374726169676874206c696e6520746861742073697473206f6e20746865204d6f6e7327204772616e6427506c6163653f0a --answer 41626f757420313630206d\n",
    "# @info: Execute me to display the question"
   ]
  },
  {
   "cell_type": "code",
   "execution_count": null,
   "metadata": {
    "jupyter": {
     "outputs_hidden": false,
     "source_hidden": true
    }
   },
   "outputs": [
    {
     "data": {
      "text/html": [
       "<div class=\"alert alert-block alert-warning\">\n",
       "<b>Question 2.0.2: </b><br>What is the approximative area of \"Le Grand Large\" water body that lies at ~2km North of Mons city?\n",
       "\n",
       "</div>"
      ]
     },
     "metadata": {},
     "output_type": "display_data"
    }
   ],
   "source": [
    "\n",
    "%%display_prompt --title Question 2.0.2: --prompt 576861742069732074686520617070726f78696d61746976652061726561206f6620224c65204772616e64204c617267652220776174657220626f64792074686174206c696573206174207e326b6d204e6f727468206f66204d6f6e7320636974793f0a --answer 41626f7574203430206861\n",
    "# @info: Execute me to display the question"
   ]
  },
  {
   "cell_type": "markdown",
   "metadata": {},
   "source": [
    "<div class=\"alert alert-block alert-warning\">\n",
    "<b>Question 2.0.3: </b><br>Display the map with a 1/30000 scale.\n",
    "</div>"
   ]
  },
  {
   "cell_type": "markdown",
   "metadata": {},
   "source": [
    "***\n",
    "## 3. Coordinates Reference Systems"
   ]
  },
  {
   "cell_type": "markdown",
   "metadata": {},
   "source": [
    "<div class=\"alert alert-block alert-success\">\n",
    "\t<b>3.1 CRS of a project</b>\n",
    "</div>"
   ]
  },
  {
   "cell_type": "markdown",
   "metadata": {},
   "source": [
    "<b>Note:</b><br>    The map display area of a project is configured to represent the data added to the project in a coordinate system.\n"
   ]
  },
  {
   "cell_type": "code",
   "execution_count": null,
   "metadata": {
    "jupyter": {
     "outputs_hidden": false,
     "source_hidden": true
    }
   },
   "outputs": [
    {
     "data": {
      "text/html": [
       "<div class=\"alert alert-block alert-warning\">\n",
       "<b>Question 3.1.1: </b><br>In which coordinate system is the map represented when the project opens?\n",
       "    \n",
       "\n",
       "</div>"
      ]
     },
     "metadata": {},
     "output_type": "display_data"
    }
   ],
   "source": [
    "\n",
    "%%display_prompt --title Question 3.1.1: --prompt 496e20776869636820636f6f7264696e6174652073797374656d20697320746865206d617020726570726573656e746564207768656e207468652070726f6a656374206f70656e733f0a202020200a --answer 20202020546865206d617020697320726570726573656e74656420696e207468652057475338342050736575646f2d4d65726361746f722028455053473a333835372920636f6f7264696e6174652073797374656d2e\n",
    "# @info: Execute me to display the question"
   ]
  },
  {
   "cell_type": "code",
   "execution_count": null,
   "metadata": {
    "jupyter": {
     "outputs_hidden": false,
     "source_hidden": true
    }
   },
   "outputs": [
    {
     "data": {
      "text/html": [
       "<div class=\"alert alert-block alert-warning\">\n",
       "<b>Question 3.1.2: </b><br>Find the Mons Belfry on the map and note its coordinates in the project's coordinate system.\n",
       "\n",
       "\n",
       "</div>"
      ]
     },
     "metadata": {},
     "output_type": "display_data"
    }
   ],
   "source": [
    "\n",
    "%%display_prompt --title Question 3.1.2: --prompt 46696e6420746865204d6f6e732042656c667279206f6e20746865206d617020616e64206e6f74652069747320636f6f7264696e6174657320696e207468652070726f6a656374277320636f6f7264696e6174652073797374656d2e0a0a --answer 2020202054686520636f6f7264696e61746573206f66207468652042656c66727920696e2074686520455053473a333835372073797374656d2061726520617070726f78696d6174656c7920343339373130206d2c2036353235323935206d2e\n",
    "# @info: Execute me to display the question"
   ]
  },
  {
   "cell_type": "code",
   "execution_count": null,
   "metadata": {
    "jupyter": {
     "outputs_hidden": false,
     "source_hidden": true
    }
   },
   "outputs": [
    {
     "data": {
      "text/html": [
       "<div class=\"alert alert-block alert-warning\">\n",
       "<b>Question 3.1.3: </b><br>What type of \"Zone d'affectation\" do you find at coordinates (442405 m, 6522400 m) in this project coordinates system?\n",
       "\n",
       "</div>"
      ]
     },
     "metadata": {},
     "output_type": "display_data"
    }
   ],
   "source": [
    "\n",
    "%%display_prompt --title Question 3.1.3: --prompt 576861742074797065206f6620225a6f6e652064276166666563746174696f6e2220646f20796f752066696e6420617420636f6f7264696e617465732028343432343035206d2c2036353232343030206d2920696e20746869732070726f6a65637420636f6f7264696e617465732073797374656d3f0a --answer 4573706163652076657274\n",
    "# @info: Execute me to display the question"
   ]
  },
  {
   "cell_type": "code",
   "execution_count": null,
   "metadata": {
    "jupyter": {
     "outputs_hidden": false,
     "source_hidden": true
    }
   },
   "outputs": [
    {
     "data": {
      "text/html": [
       "<div class=\"alert alert-block alert-warning\">\n",
       "<b>Question 3.1.4: </b><br>Using the \"Zones d'affectation\" layer, can you provide a better estimate of the area of \"Le Grand Large\"?\n",
       "\n",
       "</div>"
      ]
     },
     "metadata": {},
     "output_type": "display_data"
    }
   ],
   "source": [
    "\n",
    "%%display_prompt --title Question 3.1.4: --prompt 5573696e672074686520225a6f6e65732064276166666563746174696f6e22206c617965722c2063616e20796f752070726f7669646520612062657474657220657374696d617465206f66207468652061726561206f6620224c65204772616e64204c61726765223f0a --answer 33372e3532206861\n",
    "# @info: Execute me to display the question"
   ]
  },
  {
   "cell_type": "markdown",
   "metadata": {},
   "source": [
    "<div class=\"alert alert-block alert-success\">\n",
    "\t<b>3.2 Coordinate systems of data sources</b>\n",
    "</div>"
   ]
  },
  {
   "cell_type": "markdown",
   "metadata": {},
   "source": [
    "<div class=\"alert alert-block alert-info\">\n",
    "<b>Info:</b><br>     The map data sources you wish to use in a project have not necessarily all been produced in the same coordinate system.\n",
    "</div>"
   ]
  },
  {
   "cell_type": "code",
   "execution_count": null,
   "metadata": {
    "jupyter": {
     "outputs_hidden": false,
     "source_hidden": true
    }
   },
   "outputs": [
    {
     "data": {
      "text/html": [
       "<div class=\"alert alert-block alert-warning\">\n",
       "<b>Question 3.2.1: </b><br>Find out in which CRS(s) the datasets inserted in the project are provided.\n",
       "    \n",
       "\n",
       "</div>"
      ]
     },
     "metadata": {},
     "output_type": "display_data"
    }
   ],
   "source": [
    "\n",
    "%%display_prompt --title Question 3.2.1: --prompt 46696e64206f757420696e207768696368204352532873292074686520646174617365747320696e73657274656420696e207468652070726f6a656374206172652070726f76696465642e0a202020200a --answer 20202020466f722074686520276f70656e7374726565746d61702720646174617365742c206974206973207468652057475338342050736575646f2d4d65726361746f72204352532028455053473a33383537292e3c2f62723e20200a20202020466f722074686520276166666563746174696f6e7320617520706c616e20646520736563746575722720646174617365742c2069742069732074686520435253204c616d626572742042656c676520313937322028455053473a3331333730292e\n",
    "# @info: Execute me to display the question"
   ]
  },
  {
   "cell_type": "code",
   "execution_count": null,
   "metadata": {
    "jupyter": {
     "outputs_hidden": false,
     "source_hidden": true
    }
   },
   "outputs": [
    {
     "data": {
      "text/html": [
       "<div class=\"alert alert-block alert-warning\">\n",
       "<b>Question 3.2.2: </b><br>How can data expressed in two different coordinate systems be superimposed on the map?\n",
       "\n",
       "</div>"
      ]
     },
     "metadata": {},
     "output_type": "display_data"
    }
   ],
   "source": [
    "\n",
    "%%display_prompt --title Question 3.2.2: --prompt 486f772063616e20646174612065787072657373656420696e2074776f20646966666572656e7420636f6f7264696e6174652073797374656d73206265207375706572696d706f736564206f6e20746865206d61703f0a --answer 20202020546865792061726520726570726f6a6563746564206f6e2074686520666c7920627920514749532e\n",
    "# @info: Execute me to display the question"
   ]
  }
 ],
 "metadata": {
  "kernelspec": {
   "display_name": "Python 3 (ipykernel)",
   "language": "python",
   "name": "python3"
  },
  "language_info": {
   "codemirror_mode": {
    "name": "ipython",
    "version": 3
   },
   "file_extension": ".py",
   "mimetype": "text/x-python",
   "name": "python",
   "nbconvert_exporter": "python",
   "pygments_lexer": "ipython3",
   "version": "3.9.7"
  }
 },
 "nbformat": 4,
 "nbformat_minor": 4
}

{
 "cells": [
  {
   "cell_type": "markdown",
   "metadata": {},
   "source": [
    "# Exercise 02: QGIS & rasters\n",
    "O. Kaufmann 2024."
   ]
  },
  {
   "cell_type": "code",
   "execution_count": 2,
   "metadata": {
    "jupyter": {
     "outputs_hidden": false,
     "source_hidden": true
    }
   },
   "outputs": [
    {
     "data": {
      "text/html": [
       "<div class=\"alert alert-block alert-danger\"> <b>Important information:</b><br>Execute me to activate interactive questions.</div>"
      ]
     },
     "metadata": {},
     "output_type": "display_data"
    }
   ],
   "source": [
    "\n",
    "# @info: Execute me to activate interactive questions\n",
    "# ---------------------------------------------------\n",
    "\n",
    "# O. KAUFMANN, 2024. \n",
    "\n",
    "from IPython import get_ipython\n",
    "from IPython.core import magic_arguments\n",
    "from IPython.core.magic import register_cell_magic\n",
    "import ipywidgets as widgets\n",
    "from IPython.display import HTML, clear_output\n",
    "import codecs\n",
    "\n",
    "def decode_text(text):\n",
    "    return codecs.decode(text, 'hex').decode('utf')\n",
    "\n",
    "def encode_text(text):\n",
    "    return codecs.encode(codecs.encode(text,'utf8'), 'hex').decode('utf')\n",
    "    \n",
    "@magic_arguments.magic_arguments()\n",
    "@magic_arguments.argument('--prompt', default='none', help='Encoded prompt')\n",
    "@magic_arguments.argument('--answer', default='none', help='Encoded answer')\n",
    "@magic_arguments.argument('--title', default='Question', help='First line of alert block')\n",
    "@magic_arguments.argument('--button-label', default='Solution', help='Text to display on button')\n",
    "@magic_arguments.argument('--div-type', default='alert-warning', help='Type of alert block')\n",
    "    \n",
    "@register_cell_magic\n",
    "def display_prompt(line, cell):\n",
    "    args = magic_arguments.parse_argstring(display_prompt, line)\n",
    "    title = args.title\n",
    "    prompt = args.prompt\n",
    "    answer = args.answer\n",
    "    button_label = args.button_label\n",
    "    div_type = args.div_type\n",
    "    def make_block(text, title=title, label=button_label, div_type=div_type):\n",
    "        if title != 'none':\n",
    "            return HTML(f\"\"\"<div class=\"alert alert-block {div_type}\"> <b>{title}</b><br> {text} </div>\"\"\")\n",
    "        else:\n",
    "            return HTML(f\"\"\"<div class=\"alert alert-block {div_type}\"> {text} </div>\"\"\")\n",
    "    if prompt != 'none':\n",
    "        display(make_block(decode_text(prompt)))\n",
    "    toggle_button = widgets.ToggleButton(description=button_label)\n",
    "    output = widgets.Output()\n",
    "    def on_button_clicked(b):\n",
    "        with output:\n",
    "            if b['new']:  \n",
    "                display(HTML(decode_text(answer)))\n",
    "            else:\n",
    "                output.clear_output()\n",
    "    toggle_button.observe(on_button_clicked, 'value')\n",
    "    display(toggle_button)\n",
    "    display(output)\n",
    "\n",
    "HTML(\"\"\"<div class=\"alert alert-block alert-success\"> <b>Success:</b><br>Interactive questions activated.</div>\"\"\")\n"
   ]
  },
  {
   "cell_type": "markdown",
   "metadata": {},
   "source": [
    "<div class=\"alert alert-block alert-info\">\n",
    "<b>Info:</b><br>     This exercise is to be carried out in QGIS. The notebook only serves to guide you through the exercise. Launch QGIS before continuing.\n",
    "</div>"
   ]
  },
  {
   "cell_type": "markdown",
   "metadata": {
    "jp-MarkdownHeadingCollapsed": true
   },
   "source": [
    "<b>Note:</b><br>    Start QGIS and open the <b>Exercise_02.qgz</b> project. \n"
   ]
  },
  {
   "cell_type": "markdown",
   "metadata": {},
   "source": [
    "***\n",
    "## 1. Discover the dataset..."
   ]
  },
  {
   "cell_type": "markdown",
   "metadata": {},
   "source": [
    "<div class=\"alert alert-block alert-success\">\n",
    "\t<b>1.1 Load a local dataset</b>\n",
    "</div>"
   ]
  },
  {
   "cell_type": "markdown",
   "metadata": {},
   "source": [
    "<div class=\"alert alert-block alert-warning\">\n",
    "<b>Question 1.1.1: </b><br>A Digital Surface Model (DSM) is provided in \"data/NE305E385/NE305E385.tif\". Add this local dataset to your map. \n",
    "</div>"
   ]
  },
  {
   "cell_type": "code",
   "execution_count": null,
   "metadata": {
    "jupyter": {
     "outputs_hidden": false,
     "source_hidden": true
    }
   },
   "outputs": [
    {
     "data": {
      "text/html": [
       "<div class=\"alert alert-block alert-warning\">\n",
       "<b>Question 1.1.2: </b><br>What is the format of this raster file?\n",
       "\n",
       "</div>"
      ]
     },
     "metadata": {},
     "output_type": "display_data"
    }
   ],
   "source": [
    "\n",
    "%%display_prompt --title Question 1.1.2: --prompt 576861742069732074686520666f726d6174206f662074686973207261737465722066696c653f0a --answer 2020202047656f54696666\n",
    "# @info: Execute me to display the question"
   ]
  },
  {
   "cell_type": "code",
   "execution_count": null,
   "metadata": {
    "jupyter": {
     "outputs_hidden": false,
     "source_hidden": true
    }
   },
   "outputs": [
    {
     "data": {
      "text/html": [
       "<div class=\"alert alert-block alert-warning\">\n",
       "<b>Question 1.1.3: </b><br>Is it representing a discrete or a continuous value?\n",
       "\n",
       "</div>"
      ]
     },
     "metadata": {},
     "output_type": "display_data"
    }
   ],
   "source": [
    "\n",
    "%%display_prompt --title Question 1.1.3: --prompt 497320697420726570726573656e74696e672061206469736372657465206f72206120636f6e74696e756f75732076616c75653f0a --answer 20202020436f6e74696e756f75732028456c65766174696f6e29\n",
    "# @info: Execute me to display the question"
   ]
  },
  {
   "cell_type": "code",
   "execution_count": null,
   "metadata": {
    "jupyter": {
     "outputs_hidden": false,
     "source_hidden": true
    }
   },
   "outputs": [
    {
     "data": {
      "text/html": [
       "<div class=\"alert alert-block alert-warning\">\n",
       "<b>Question 1.1.4: </b><br>What is the spatial resolution of this dataset?\n",
       "\n",
       "</div>"
      ]
     },
     "metadata": {},
     "output_type": "display_data"
    }
   ],
   "source": [
    "\n",
    "%%display_prompt --title Question 1.1.4: --prompt 5768617420697320746865207370617469616c207265736f6c7574696f6e206f66207468697320646174617365743f0a --answer 202020203235206d2e\n",
    "# @info: Execute me to display the question"
   ]
  },
  {
   "cell_type": "code",
   "execution_count": null,
   "metadata": {
    "jupyter": {
     "outputs_hidden": false,
     "source_hidden": true
    }
   },
   "outputs": [
    {
     "data": {
      "text/html": [
       "<div class=\"alert alert-block alert-warning\">\n",
       "<b>Question 1.1.5: </b><br>What is the spectral depth of this dataset?\n",
       "\n",
       "</div>"
      ]
     },
     "metadata": {},
     "output_type": "display_data"
    }
   ],
   "source": [
    "\n",
    "%%display_prompt --title Question 1.1.5: --prompt 576861742069732074686520737065637472616c206465707468206f66207468697320646174617365743f0a --answer 2020202056616c756573206172652073746f7265642061732033322d6269747320666c6f6174732e\n",
    "# @info: Execute me to display the question"
   ]
  },
  {
   "cell_type": "code",
   "execution_count": null,
   "metadata": {
    "jupyter": {
     "outputs_hidden": false,
     "source_hidden": true
    }
   },
   "outputs": [
    {
     "data": {
      "text/html": [
       "<div class=\"alert alert-block alert-warning\">\n",
       "<b>Question 1.1.6: </b><br>What is the CRS associated with this dataset?\n",
       "\n",
       "</div>"
      ]
     },
     "metadata": {},
     "output_type": "display_data"
    }
   ],
   "source": [
    "\n",
    "%%display_prompt --title Question 1.1.6: --prompt 576861742069732074686520435253206173736f6369617465642077697468207468697320646174617365743f0a --answer 2020202049474e463a4554525338394c414541202d20455452533839204c616d6265727420417a696d7574616c20457175616c204172656120\n",
    "# @info: Execute me to display the question"
   ]
  },
  {
   "cell_type": "markdown",
   "metadata": {},
   "source": [
    "### @subection | Examine the dataset"
   ]
  },
  {
   "cell_type": "markdown",
   "metadata": {},
   "source": [
    "<div class=\"alert alert-block alert-warning\">\n",
    "<b>Question 1.1.7: </b><br>Display the DSM using a symbology adapted to represent elevations.  \n",
    "</div>"
   ]
  },
  {
   "cell_type": "markdown",
   "metadata": {},
   "source": [
    "<div class=\"alert alert-block alert-warning\">\n",
    "<b>Question 1.1.8: </b><br>Compare the results of a symbology using 12 classes and the \"Equal Interval\" classification scheme with a symbology using 12 classes and the quantile classification scheme.</br> What would you suggest to use?\n",
    "\n",
    "</div>"
   ]
  },
  {
   "cell_type": "code",
   "execution_count": null,
   "metadata": {
    "jupyter": {
     "outputs_hidden": false,
     "source_hidden": true
    }
   },
   "outputs": [
    {
     "data": {
      "text/html": [
       "<div class=\"alert alert-block alert-warning\">\n",
       "<b>Question 1.1.9: </b><br>What is the maximum elevation in the DSM?\n",
       "\n",
       "</div>"
      ]
     },
     "metadata": {},
     "output_type": "display_data"
    }
   ],
   "source": [
    "\n",
    "%%display_prompt --title Question 1.1.9: --prompt 5768617420697320746865206d6178696d756d20656c65766174696f6e20696e207468652044534d3f0a --answer 3136332e3132206d3c2f62723e0a50617920617474656e74696f6e207468617420746865207374617469737469637320696e206c61796572206d6574616461746120666f722062616e6431207265706f72742061206d6178206f66203135322e3330206d207768696368206973206e6f7420636f72726563742e3c2f62723e20546869732069732064756520746f20746865206661637420746861742c2062792064656661756c742c207468652072616e676520697320657374696d617465642e3c2f62723e20596f752063616e207573652074686520726173746572206c61796572207374617469737469637320746f6f6c2066726f6d2074686520746f6f6c626f7820746f20636f6d7075746520636f72726563742073746174697374696373206f72206368616e676520746865204d696e2f4d61782076616c75652073657474696e6720746f20636f6d70757465207468652061637475616c206d696e20616e64206d6178206f662074686520646174617365742e\n",
    "# @info: Execute me to display the question"
   ]
  },
  {
   "cell_type": "code",
   "execution_count": null,
   "metadata": {
    "jupyter": {
     "outputs_hidden": false,
     "source_hidden": true
    }
   },
   "outputs": [
    {
     "data": {
      "text/html": [
       "<div class=\"alert alert-block alert-warning\">\n",
       "<b>Question 1.1.10: </b><br>Using the <b>raster calculator</b>, search for the names of the places that are more than 150.0 m high on th DSM.  \n",
       "\n",
       "</div>"
      ]
     },
     "metadata": {},
     "output_type": "display_data"
    }
   ],
   "source": [
    "\n",
    "%%display_prompt --title Question 1.1.10: --prompt 5573696e6720746865203c623e7261737465722063616c63756c61746f723c2f623e2c2073656172636820666f7220746865206e616d6573206f662074686520706c61636573207468617420617265206d6f7265207468616e203135302e30206d2068696768206f6e2074682044534d2e20200a --answer 2d204d6f6e74206465206c27456e636c75733c2f62723e0a2d20486f746f6e64626572673c2f62723e0a2d20466f727475696e626572673c2f62723e0a2d20506f7474656c626572673c2f62723e0a2d204c6120486f757070653c2f62723e\n",
    "# @info: Execute me to display the question"
   ]
  },
  {
   "cell_type": "markdown",
   "metadata": {},
   "source": [
    "<div class=\"alert alert-block alert-warning\">\n",
    "<b>Question 1.1.11: </b><br>With the raster calculator, search for the location of pixels with the minimum elevation in the DSM.</br>\n",
    "Modifiy the symbology of the calculated layer to display these pixels in red while other pixels are transparent.\n",
    "</div>"
   ]
  },
  {
   "cell_type": "code",
   "execution_count": null,
   "metadata": {
    "jupyter": {
     "outputs_hidden": false,
     "source_hidden": true
    }
   },
   "outputs": [
    {
     "data": {
      "text/html": [
       "<div class=\"alert alert-block alert-warning\">\n",
       "<b>Question 1.1.12: </b><br>What are the approximate coordinates in the LB2008 CRS of the lowest point on the DSM? What type of location is it in?\n",
       "\n",
       "</div>"
      ]
     },
     "metadata": {},
     "output_type": "display_data"
    }
   ],
   "source": [
    "\n",
    "%%display_prompt --title Question 1.1.12: --prompt 57686174206172652074686520617070726f78696d61746520636f6f7264696e6174657320696e20746865204c423230303820435253206f6620746865206c6f7765737420706f696e74206f6e207468652044534d3f20576861742074797065206f66206c6f636174696f6e20697320697420696e3f0a --answer 54686520617070726f78696d61746520636f6f7264696e6174657320696e204c42323030382061726520353837303633206d2c20363434323030206d3c2f62723e0a546865736520706f696e7473206c696520696e206120717561727279206174204761757261696e2d52616d6563726f69782c2045617374206f6620546f75726e61692e\n",
    "# @info: Execute me to display the question"
   ]
  },
  {
   "cell_type": "code",
   "execution_count": null,
   "metadata": {},
   "outputs": [],
   "source": []
  }
 ],
 "metadata": {
  "kernelspec": {
   "display_name": "Python 3 (ipykernel)",
   "language": "python",
   "name": "python3"
  },
  "language_info": {
   "codemirror_mode": {
    "name": "ipython",
    "version": 3
   },
   "file_extension": ".py",
   "mimetype": "text/x-python",
   "name": "python",
   "nbconvert_exporter": "python",
   "pygments_lexer": "ipython3",
   "version": "3.9.7"
  }
 },
 "nbformat": 4,
 "nbformat_minor": 4
}
